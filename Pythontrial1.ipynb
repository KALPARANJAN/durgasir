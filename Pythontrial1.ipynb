{
  "nbformat": 4,
  "nbformat_minor": 0,
  "metadata": {
    "colab": {
      "name": "Pythontrial1.ipynb",
      "provenance": [],
      "authorship_tag": "ABX9TyNlZzDhJEq2FUCVAXIA/mlk",
      "include_colab_link": true
    },
    "kernelspec": {
      "name": "python3",
      "display_name": "Python 3"
    }
  },
  "cells": [
    {
      "cell_type": "markdown",
      "metadata": {
        "id": "view-in-github",
        "colab_type": "text"
      },
      "source": [
        "<a href=\"https://colab.research.google.com/github/KALPARANJAN/durgasir/blob/master/Pythontrial1.ipynb\" target=\"_parent\"><img src=\"https://colab.research.google.com/assets/colab-badge.svg\" alt=\"Open In Colab\"/></a>"
      ]
    },
    {
      "cell_type": "code",
      "metadata": {
        "id": "UP385am6_nnG",
        "colab_type": "code",
        "colab": {
          "base_uri": "https://localhost:8080/",
          "height": 799
        },
        "outputId": "b3cc002e-46b5-4e5c-f691-25aab0375aa8"
      },
      "source": [
        "p=2\n",
        "while p<=200:\n",
        "  prime=True\n",
        "  for i in range(2,p):\n",
        "    if p%i==0:\n",
        "      prime=False\n",
        "      break\n",
        "  if prime==True:\n",
        "      print(p)\n",
        "  p=p+1"
      ],
      "execution_count": 7,
      "outputs": [
        {
          "output_type": "stream",
          "text": [
            "2\n",
            "3\n",
            "5\n",
            "7\n",
            "11\n",
            "13\n",
            "17\n",
            "19\n",
            "23\n",
            "29\n",
            "31\n",
            "37\n",
            "41\n",
            "43\n",
            "47\n",
            "53\n",
            "59\n",
            "61\n",
            "67\n",
            "71\n",
            "73\n",
            "79\n",
            "83\n",
            "89\n",
            "97\n",
            "101\n",
            "103\n",
            "107\n",
            "109\n",
            "113\n",
            "127\n",
            "131\n",
            "137\n",
            "139\n",
            "149\n",
            "151\n",
            "157\n",
            "163\n",
            "167\n",
            "173\n",
            "179\n",
            "181\n",
            "191\n",
            "193\n",
            "197\n",
            "199\n"
          ],
          "name": "stdout"
        }
      ]
    },
    {
      "cell_type": "code",
      "metadata": {
        "id": "O0RIdeWlBlqd",
        "colab_type": "code",
        "colab": {
          "base_uri": "https://localhost:8080/",
          "height": 51
        },
        "outputId": "034b8b3f-ad64-47e3-dc05-7c38ecee904a"
      },
      "source": [
        "p=2\n",
        "prime=True\n",
        "while p<=200:\n",
        "\n",
        "  for i in range(2,p):\n",
        "    if p%i==0:\n",
        "      prime=False\n",
        "      break\n",
        "  if prime==True:\n",
        "      print(p)\n",
        "  p=p+1"
      ],
      "execution_count": 8,
      "outputs": [
        {
          "output_type": "stream",
          "text": [
            "2\n",
            "3\n"
          ],
          "name": "stdout"
        }
      ]
    },
    {
      "cell_type": "code",
      "metadata": {
        "id": "-pWRdtrgEpoj",
        "colab_type": "code",
        "colab": {
          "base_uri": "https://localhost:8080/",
          "height": 136
        },
        "outputId": "66c2640e-3560-4633-f022-c0a59c5d9ddc"
      },
      "source": [
        "n=int(input('enter the number upto which prime number should calculated'))\n",
        "p=2\n",
        "while (p<=n):\n",
        "  prime=True\n",
        "  for i in range(2,p):\n",
        "    if p%i==0:\n",
        "      prime=False\n",
        "      break\n",
        "  if prime==True:\n",
        "    print(p)\n",
        "  p+=1"
      ],
      "execution_count": 10,
      "outputs": [
        {
          "output_type": "stream",
          "text": [
            "enter the number upto which prime number should calculated16\n",
            "2\n",
            "3\n",
            "5\n",
            "7\n",
            "11\n",
            "13\n"
          ],
          "name": "stdout"
        }
      ]
    },
    {
      "cell_type": "code",
      "metadata": {
        "id": "TXh3_J-4Ioh4",
        "colab_type": "code",
        "colab": {
          "base_uri": "https://localhost:8080/",
          "height": 187
        },
        "outputId": "bcd31f32-1034-4315-ff9a-201261ed3b41"
      },
      "source": [
        "n=int(input('enter the number upto which prime number should calculated'))\n",
        "p=2\n",
        "while (p<=n):\n",
        "  prime=True\n",
        "  for i in range(2,p):\n",
        "    if p%i==0:\n",
        "                    -------------------\n",
        "      break\n",
        "  if prime==True:\n",
        "    print(p)\n",
        "  p+=1"
      ],
      "execution_count": 11,
      "outputs": [
        {
          "output_type": "stream",
          "text": [
            "enter the number upto which prime number should calculated10\n",
            "2\n",
            "3\n",
            "4\n",
            "5\n",
            "6\n",
            "7\n",
            "8\n",
            "9\n",
            "10\n"
          ],
          "name": "stdout"
        }
      ]
    },
    {
      "cell_type": "code",
      "metadata": {
        "id": "A4DNyOwEIxDu",
        "colab_type": "code",
        "colab": {
          "base_uri": "https://localhost:8080/",
          "height": 51
        },
        "outputId": "a583bc44-d392-4562-8361-b99fc470940d"
      },
      "source": [
        "rooms={1:'left conference room',2:'right conference room'}\n",
        "room=int(input('enter room number'))\n",
        "if room not in rooms:\n",
        "  print('room does not exist')\n",
        "else:\n",
        "  print('the room number is',rooms[room])"
      ],
      "execution_count": 13,
      "outputs": [
        {
          "output_type": "stream",
          "text": [
            "enter room number1\n",
            "the room number is left conference room\n"
          ],
          "name": "stdout"
        }
      ]
    },
    {
      "cell_type": "code",
      "metadata": {
        "id": "d6hup4F3Jmb4",
        "colab_type": "code",
        "colab": {
          "base_uri": "https://localhost:8080/",
          "height": 51
        },
        "outputId": "dd70bb53-6ba1-42f1-e64a-10b40eb0b0d4"
      },
      "source": [
        "rooms={1:'left conference room',2:'right conference room'}\n",
        "room=int(input('enter room number'))\n",
        "if room not in rooms:\n",
        "  print('room does not exist')\n",
        "else:\n",
        "  print('the room number is'+rooms[room])"
      ],
      "execution_count": 14,
      "outputs": [
        {
          "output_type": "stream",
          "text": [
            "enter room number2\n",
            "the room number isright conference room\n"
          ],
          "name": "stdout"
        }
      ]
    },
    {
      "cell_type": "code",
      "metadata": {
        "id": "qsN507bXLvTv",
        "colab_type": "code",
        "colab": {
          "base_uri": "https://localhost:8080/",
          "height": 85
        },
        "outputId": "bf88ded7-09d1-40ba-fc45-355bbad335c3"
      },
      "source": [
        "ontime= input('whether rent before 8pm (y or n)').lower()\n",
        "days_rented= int(input('How many days rented'))\n",
        "day_rented= input('On which day book was rented').capitalize()\n",
        "\n",
        "cost_per_day= 3.00\n",
        "if ontime =='n':\n",
        "  days_rented=days_rented+1\n",
        "if day_rented=='sunday':\n",
        "  total=days_rented*cost_per_day*0.5\n",
        "elif day_rented=='saturday':\n",
        "  total=(days_rented*cost_per_day)*0.7\n",
        "else:\n",
        "  total=(days_rented*cost_per_day)\n",
        "  \n",
        "print('cost of the book is $',total)"
      ],
      "execution_count": 43,
      "outputs": [
        {
          "output_type": "stream",
          "text": [
            "whether rent before 8pm (y or n)y\n",
            "How many days rented3\n",
            "On which day book was rentedsunday\n",
            "cost of the book is $ 0\n"
          ],
          "name": "stdout"
        }
      ]
    },
    {
      "cell_type": "code",
      "metadata": {
        "id": "-hUNXUXXlfjV",
        "colab_type": "code",
        "colab": {
          "base_uri": "https://localhost:8080/",
          "height": 34
        },
        "outputId": "7ce940a1-3575-4aec-e819-73f4f0164d4f"
      },
      "source": [
        "day_rented"
      ],
      "execution_count": 16,
      "outputs": [
        {
          "output_type": "execute_result",
          "data": {
            "text/plain": [
              "'Monday,tuesday,wednesday'"
            ]
          },
          "metadata": {
            "tags": []
          },
          "execution_count": 16
        }
      ]
    },
    {
      "cell_type": "markdown",
      "metadata": {
        "id": "D7ifkrAAvvPu",
        "colab_type": "text"
      },
      "source": [
        "## **Most imporatant programming**"
      ]
    },
    {
      "cell_type": "code",
      "metadata": {
        "id": "xl1cF4Pkrrdk",
        "colab_type": "code",
        "colab": {
          "base_uri": "https://localhost:8080/",
          "height": 85
        },
        "outputId": "543ecdd8-5393-472a-9c9d-24576be4fb95"
      },
      "source": [
        "ontime= input('whether rent before 8pm (y or n)').lower()\n",
        "days_rented= int(input('How many days rented'))\n",
        "day_rented= input('On which day book was rented').capitalize()\n",
        "\n",
        "cost_per_day= 3.00\n",
        "if ontime =='n':\n",
        "  days_rented=days_rented+1\n",
        "if day_rented=='sunday':\n",
        "  total=days_rented*cost_per_day*0.5\n",
        "elif day_rented=='saturday':\n",
        "  total=(days_rented*cost_per_day)*0.7\n",
        "else:\n",
        "  total=(days_rented*cost_per_day)\n",
        "  \n",
        "print('cost of the book is $',total)"
      ],
      "execution_count": 44,
      "outputs": [
        {
          "output_type": "stream",
          "text": [
            "whether rent before 8pm (y or n)n\n",
            "How many days rented3\n",
            "On which day book was rentedsunday\n",
            "cost of the book is $ 12.0\n"
          ],
          "name": "stdout"
        }
      ]
    },
    {
      "cell_type": "code",
      "metadata": {
        "id": "Z7kwP91mr1q0",
        "colab_type": "code",
        "colab": {
          "base_uri": "https://localhost:8080/",
          "height": 51
        },
        "outputId": "65a26d91-1912-4e33-9dbe-53f65a63159a"
      },
      "source": [
        "d= input('enter day of the week')\n",
        "percentage_discount=3\n",
        "if d=='monday':\n",
        "  percentage_discount+=5\n",
        "elif d=='Tuesday':\n",
        "  percentage_discount+=7\n",
        "elif d=='wednesday':\n",
        "  percentage_discount+=10\n",
        "else:\n",
        "  percentage_discount+=2\n",
        "print(percentage_discount)"
      ],
      "execution_count": 45,
      "outputs": [
        {
          "output_type": "stream",
          "text": [
            "enter day of the weekfriday\n",
            "5\n"
          ],
          "name": "stdout"
        }
      ]
    },
    {
      "cell_type": "code",
      "metadata": {
        "id": "UAeycazbvrCC",
        "colab_type": "code",
        "colab": {
          "base_uri": "https://localhost:8080/",
          "height": 51
        },
        "outputId": "37135a4e-5e05-4985-f22f-e6ec48d7cfe3"
      },
      "source": [
        "amount=int(input('enter the loan amount'))\n",
        "intrest_rate=0\n",
        "if amount >0 and amount<=50000:\n",
        "  intrest_rate=10\n",
        "if amount >50000 and amount<=100000:\n",
        "  intrest_rate=12\n",
        "if amount >100000 and amount<=150000:\n",
        "  intrest_rate=16\n",
        "print(intrest_rate)"
      ],
      "execution_count": 46,
      "outputs": [
        {
          "output_type": "stream",
          "text": [
            "enter the loan amount25000\n",
            "10\n"
          ],
          "name": "stdout"
        }
      ]
    },
    {
      "cell_type": "code",
      "metadata": {
        "id": "_TxkV-zyyb0H",
        "colab_type": "code",
        "colab": {
          "base_uri": "https://localhost:8080/",
          "height": 34
        },
        "outputId": "8d8c1c32-1a07-433a-add6-615b1b9f8de0"
      },
      "source": [
        "marks=[30,40,50,45,50,100]\n",
        "average=sum(marks)//len(marks)\n",
        "print(average,sum(marks),len(marks))"
      ],
      "execution_count": 49,
      "outputs": [
        {
          "output_type": "stream",
          "text": [
            "52 315 6\n"
          ],
          "name": "stdout"
        }
      ]
    },
    {
      "cell_type": "code",
      "metadata": {
        "id": "D88hhWgRzO__",
        "colab_type": "code",
        "colab": {
          "base_uri": "https://localhost:8080/",
          "height": 34
        },
        "outputId": "ba9513dc-e094-4c3e-96c5-26bd768e003b"
      },
      "source": [
        "marks=[30,40,50,45,50,100]\n",
        "average=sum(marks)//len(marks)\n",
        "grades={1:'A',2:'B',3:'C',4:'D'}\n",
        "if average >=90 and average<=100:\n",
        "  key =1\n",
        "if average >=80 and average<=90: \n",
        "  key =2\n",
        "if average >=70 and average<=80: \n",
        "  key =3\n",
        "else: \n",
        "  key =4\n",
        "print(grades[key])"
      ],
      "execution_count": 53,
      "outputs": [
        {
          "output_type": "stream",
          "text": [
            "D\n"
          ],
          "name": "stdout"
        }
      ]
    },
    {
      "cell_type": "code",
      "metadata": {
        "id": "00rTvzzZ15HU",
        "colab_type": "code",
        "colab": {}
      },
      "source": [
        "a=12\n",
        "b=4\n",
        "s='He shall not be happy if he does not work'\n"
      ],
      "execution_count": 0,
      "outputs": []
    },
    {
      "cell_type": "code",
      "metadata": {
        "id": "nTJfTI3c2YQf",
        "colab_type": "code",
        "colab": {
          "base_uri": "https://localhost:8080/",
          "height": 34
        },
        "outputId": "a235bd5b-0784-431d-a1cb-a743f331d7e3"
      },
      "source": [
        "result= 3 if None else a/b\n",
        "result"
      ],
      "execution_count": 61,
      "outputs": [
        {
          "output_type": "execute_result",
          "data": {
            "text/plain": [
              "3.0"
            ]
          },
          "metadata": {
            "tags": []
          },
          "execution_count": 61
        }
      ]
    },
    {
      "cell_type": "code",
      "metadata": {
        "id": "fsBZm3lY3KlC",
        "colab_type": "code",
        "colab": {
          "base_uri": "https://localhost:8080/",
          "height": 34
        },
        "outputId": "ad9d9bb0-08cb-4f36-f84e-7980a09ee961"
      },
      "source": [
        "result= s.find('not')if s else None\n",
        "result"
      ],
      "execution_count": 62,
      "outputs": [
        {
          "output_type": "execute_result",
          "data": {
            "text/plain": [
              "9"
            ]
          },
          "metadata": {
            "tags": []
          },
          "execution_count": 62
        }
      ]
    },
    {
      "cell_type": "code",
      "metadata": {
        "id": "RLZvvIIg3iF4",
        "colab_type": "code",
        "colab": {}
      },
      "source": [
        "result= s.rfind('not')if s else None"
      ],
      "execution_count": 0,
      "outputs": []
    },
    {
      "cell_type": "code",
      "metadata": {
        "id": "ySFpdyuZ3vqw",
        "colab_type": "code",
        "colab": {
          "base_uri": "https://localhost:8080/",
          "height": 34
        },
        "outputId": "a423e41a-7455-4181-9138-a9c16c470879"
      },
      "source": [
        "s.find('he')"
      ],
      "execution_count": 67,
      "outputs": [
        {
          "output_type": "execute_result",
          "data": {
            "text/plain": [
              "25"
            ]
          },
          "metadata": {
            "tags": []
          },
          "execution_count": 67
        }
      ]
    },
    {
      "cell_type": "code",
      "metadata": {
        "id": "I8xEZOKI3-5Q",
        "colab_type": "code",
        "colab": {
          "base_uri": "https://localhost:8080/",
          "height": 34
        },
        "outputId": "b2ab0624-7a55-4621-d216-1b0bf07e50d3"
      },
      "source": [
        "s.find('He')"
      ],
      "execution_count": 68,
      "outputs": [
        {
          "output_type": "execute_result",
          "data": {
            "text/plain": [
              "0"
            ]
          },
          "metadata": {
            "tags": []
          },
          "execution_count": 68
        }
      ]
    },
    {
      "cell_type": "code",
      "metadata": {
        "id": "S0ATCyS25iw1",
        "colab_type": "code",
        "colab": {
          "base_uri": "https://localhost:8080/",
          "height": 34
        },
        "outputId": "6d2fd4bf-3ebf-4c6d-fb85-5c796e24bbc4"
      },
      "source": [
        "collected_amount=3000\n",
        "commission=0\n",
        "if collected_amount<=2000:\n",
        "  commission=50\n",
        "elif collected_amount>=2500 and collected_amount<3000:\n",
        "  commission=100\n",
        "elif collected_amount>2500:\n",
        "  commision=150\n",
        "  if collected_amount<=3000:\n",
        "    commission=200\n",
        "commission"
      ],
      "execution_count": 70,
      "outputs": [
        {
          "output_type": "execute_result",
          "data": {
            "text/plain": [
              "200"
            ]
          },
          "metadata": {
            "tags": []
          },
          "execution_count": 70
        }
      ]
    },
    {
      "cell_type": "code",
      "metadata": {
        "id": "UCMmnl8s-soV",
        "colab_type": "code",
        "colab": {
          "base_uri": "https://localhost:8080/",
          "height": 34
        },
        "outputId": "e59ae0cd-cfae-4a0a-e5ce-8e112314339f"
      },
      "source": [
        "collected_amount=3000\n",
        "commission=0\n",
        "if collected_amount<=2000:\n",
        "  commission=50\n",
        "elif collected_amount>=2500 and collected_amount<3000:\n",
        "  commission=100\n",
        "elif collected_amount>2500:\n",
        "  commision=150\n",
        "  if collected_amount<=3000:\n",
        "    commission+=200\n",
        "commission"
      ],
      "execution_count": 74,
      "outputs": [
        {
          "output_type": "execute_result",
          "data": {
            "text/plain": [
              "200"
            ]
          },
          "metadata": {
            "tags": []
          },
          "execution_count": 74
        }
      ]
    },
    {
      "cell_type": "code",
      "metadata": {
        "id": "D-hM1xsv-wJc",
        "colab_type": "code",
        "colab": {}
      },
      "source": [
        ""
      ],
      "execution_count": 0,
      "outputs": []
    }
  ]
}