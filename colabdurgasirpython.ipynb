{
  "nbformat": 4,
  "nbformat_minor": 0,
  "metadata": {
    "colab": {
      "name": "colabdurgasirpython.ipynb",
      "provenance": [],
      "collapsed_sections": [
        "gGd9JIAH3_Je",
        "71JnasWl_PbU",
        "Xy_r6ARZ_rIc",
        "UGe-YTdBBdGj",
        "33LqGKz9IF-o",
        "MfjHDQ2GNSYX",
        "dZ-XPk2hXSSe"
      ],
      "authorship_tag": "ABX9TyOkUulZH5f7QqrZatPwJ3O6",
      "include_colab_link": true
    },
    "kernelspec": {
      "name": "python3",
      "display_name": "Python 3"
    }
  },
  "cells": [
    {
      "cell_type": "markdown",
      "metadata": {
        "id": "view-in-github",
        "colab_type": "text"
      },
      "source": [
        "<a href=\"https://colab.research.google.com/github/KALPARANJAN/durgasir/blob/master/colabdurgasirpython.ipynb\" target=\"_parent\"><img src=\"https://colab.research.google.com/assets/colab-badge.svg\" alt=\"Open In Colab\"/></a>"
      ]
    },
    {
      "cell_type": "code",
      "metadata": {
        "id": "kj6wiW3eiB85",
        "colab_type": "code",
        "outputId": "efe8c845-0e46-4bf3-cf01-433bd66a902f",
        "colab": {
          "base_uri": "https://localhost:8080/",
          "height": 51
        }
      },
      "source": [
        "name = input('enter your name:')\n",
        "if name =='durga':\n",
        "  print('helo durga')\n",
        "else:\n",
        "  print('helo guest')"
      ],
      "execution_count": 0,
      "outputs": [
        {
          "output_type": "stream",
          "text": [
            "enter your name:kal\n",
            "helo guest\n"
          ],
          "name": "stdout"
        }
      ]
    },
    {
      "cell_type": "code",
      "metadata": {
        "id": "PW5edNk2l5vu",
        "colab_type": "code",
        "outputId": "6c495139-8a5d-4e5a-d1a7-1370e2b30151",
        "colab": {
          "base_uri": "https://localhost:8080/",
          "height": 51
        }
      },
      "source": [
        "brand= input('enter your brand')\n",
        "if brand == 'RO':\n",
        "  print('childrens brand')\n",
        "elif brand =='KO':\n",
        "  print('Nice')\n",
        "elif brand=='RC':\n",
        "  print('not kick')\n",
        "else:\n",
        "  print('others are not allowed')"
      ],
      "execution_count": 0,
      "outputs": [
        {
          "output_type": "stream",
          "text": [
            "enter your brandRO\n",
            "childrens brand\n"
          ],
          "name": "stdout"
        }
      ]
    },
    {
      "cell_type": "code",
      "metadata": {
        "id": "jR6l3sdrnJdR",
        "colab_type": "code",
        "outputId": "e6ca921c-6e47-4885-e013-e7ec11f229e0",
        "colab": {
          "base_uri": "https://localhost:8080/",
          "height": 51
        }
      },
      "source": [
        "marks=int(input('enter marks:'))\n",
        "if marks >= 90:\n",
        "  print('GRADE O')\n",
        "elif 80<=marks and marks<90:\n",
        "  print('GRADE E')\n",
        "elif marks>=70 and marks<80:\n",
        "  print('GRADE A')\n",
        "else:\n",
        "  print('failed')"
      ],
      "execution_count": 0,
      "outputs": [
        {
          "output_type": "stream",
          "text": [
            "enter marks:78\n",
            "GRADE A\n"
          ],
          "name": "stdout"
        }
      ]
    },
    {
      "cell_type": "code",
      "metadata": {
        "id": "1aYyjWFAqCb2",
        "colab_type": "code",
        "outputId": "fcf8bd83-015b-4491-ab8a-5de78bd13be5",
        "colab": {
          "base_uri": "https://localhost:8080/",
          "height": 51
        }
      },
      "source": [
        "marks=int(input('enter marks:'))\n",
        "if marks >= 90:\n",
        "  print('GRADE O')\n",
        "elif 80<=marks:\n",
        "  print('GRADE E')\n",
        "elif marks>=70:\n",
        "  print('GRADE A')\n",
        "else:\n",
        "  print('failed')"
      ],
      "execution_count": 0,
      "outputs": [
        {
          "output_type": "stream",
          "text": [
            "enter marks:94\n",
            "GRADE O\n"
          ],
          "name": "stdout"
        }
      ]
    },
    {
      "cell_type": "code",
      "metadata": {
        "id": "9Ik1Xek_rMpd",
        "colab_type": "code",
        "outputId": "2aed0332-28cf-423e-9d9d-55a4cbbdb9a8",
        "colab": {
          "base_uri": "https://localhost:8080/",
          "height": 85
        }
      },
      "source": [
        "marks=int(input('enter marks:'))\n",
        "if marks >= 90:\n",
        "  print('GRADE O')\n",
        "if marks>=80:\n",
        "  print('GRADE E')\n",
        "if marks>=70:\n",
        "  print('GRADE A')\n",
        "else:\n",
        "  print('failed')"
      ],
      "execution_count": 0,
      "outputs": [
        {
          "output_type": "stream",
          "text": [
            "enter marks:95\n",
            "GRADE O\n",
            "GRADE E\n",
            "GRADE A\n"
          ],
          "name": "stdout"
        }
      ]
    },
    {
      "cell_type": "code",
      "metadata": {
        "id": "81GvTf6Yr0YS",
        "colab_type": "code",
        "outputId": "4f2139a9-5995-49f3-c4c8-8018761790c9",
        "colab": {
          "base_uri": "https://localhost:8080/",
          "height": 51
        }
      },
      "source": [
        "marks=int(input('enter marks:'))\n",
        "if marks >= 90:\n",
        "  print('GRADE O')\n",
        "if marks>=80 and marks<90:\n",
        "  print('GRADE E')\n",
        "if marks>=70 and marks<80:\n",
        "  print('GRADE A')\n"
      ],
      "execution_count": 0,
      "outputs": [
        {
          "output_type": "stream",
          "text": [
            "enter marks:95\n",
            "GRADE O\n"
          ],
          "name": "stdout"
        }
      ]
    },
    {
      "cell_type": "code",
      "metadata": {
        "id": "0kBnxgitsojn",
        "colab_type": "code",
        "outputId": "4c71e323-0c01-4c7b-e8d4-23bbdb7cc653",
        "colab": {
          "base_uri": "https://localhost:8080/",
          "height": 85
        }
      },
      "source": [
        "num1= int(input('enter number'))\n",
        "num2= int(input('enter number'))\n",
        "num3= int(input('enter number'))\n",
        "if num1> num2 and num1 > num3:\n",
        "  print('The gretest number is ',num1)\n",
        "elif num2 > num3:\n",
        "  print('The gretest number is ',num2)\n",
        "else:\n",
        "  print('The gretest number is ',num3)"
      ],
      "execution_count": 0,
      "outputs": [
        {
          "output_type": "stream",
          "text": [
            "enter number47\n",
            "enter number64\n",
            "enter number9\n",
            "The gretest number is  64\n"
          ],
          "name": "stdout"
        }
      ]
    },
    {
      "cell_type": "code",
      "metadata": {
        "id": "zK1XPv_BvLtK",
        "colab_type": "code",
        "outputId": "5cb560d5-5f78-4766-9ee9-6489323ba88d",
        "colab": {
          "base_uri": "https://localhost:8080/",
          "height": 85
        }
      },
      "source": [
        "num1= int(input('enter number'))\n",
        "num2= int(input('enter number'))\n",
        "num3= int(input('enter number'))\n",
        "if num1> num2 and num1 > num3:\n",
        "  print('The gretest number is ',num1)\n",
        "if num2 > num3 and num2 >num1:\n",
        "  print('The gretest number is ',num2)\n",
        "if num3 >num2 and num3 > num129:\n",
        "  print('The gretest number is ',num3)"
      ],
      "execution_count": 0,
      "outputs": [
        {
          "output_type": "stream",
          "text": [
            "enter number84\n",
            "enter number92\n",
            "enter number30\n",
            "The gretest number is  92\n"
          ],
          "name": "stdout"
        }
      ]
    },
    {
      "cell_type": "code",
      "metadata": {
        "id": "745vz7Z2wvA_",
        "colab_type": "code",
        "outputId": "4b5388ae-4ced-4a71-bfef-36a37c556012",
        "colab": {
          "base_uri": "https://localhost:8080/",
          "height": 102
        }
      },
      "source": [
        "l=[10,20,30,40,50]\n",
        "for x in l:\n",
        "  print(x)"
      ],
      "execution_count": 0,
      "outputs": [
        {
          "output_type": "stream",
          "text": [
            "10\n",
            "20\n",
            "30\n",
            "40\n",
            "50\n"
          ],
          "name": "stdout"
        }
      ]
    },
    {
      "cell_type": "code",
      "metadata": {
        "id": "nceID-6kw8Ba",
        "colab_type": "code",
        "outputId": "5827a066-0fb0-4cc8-b421-d66f84fbbd7e",
        "colab": {
          "base_uri": "https://localhost:8080/",
          "height": 34
        }
      },
      "source": [
        "l=(10,20,30,40,50)\n",
        "x=list(l)\n",
        "x"
      ],
      "execution_count": 0,
      "outputs": [
        {
          "output_type": "execute_result",
          "data": {
            "text/plain": [
              "[10, 20, 30, 40, 50]"
            ]
          },
          "metadata": {
            "tags": []
          },
          "execution_count": 25
        }
      ]
    },
    {
      "cell_type": "code",
      "metadata": {
        "id": "Q5nAnxFExP8G",
        "colab_type": "code",
        "outputId": "ba2ebfe0-735d-4f73-a0d9-546a8c10fe6e",
        "colab": {
          "base_uri": "https://localhost:8080/",
          "height": 102
        }
      },
      "source": [
        "for x in 'durga':\n",
        "  print(x)"
      ],
      "execution_count": 0,
      "outputs": [
        {
          "output_type": "stream",
          "text": [
            "d\n",
            "u\n",
            "r\n",
            "g\n",
            "a\n"
          ],
          "name": "stdout"
        }
      ]
    },
    {
      "cell_type": "code",
      "metadata": {
        "id": "oae-BxnPxXRO",
        "colab_type": "code",
        "outputId": "ef66092b-125f-4d12-bec9-b84605b4f35f",
        "colab": {
          "base_uri": "https://localhost:8080/",
          "height": 51
        }
      },
      "source": [
        "for x in '10':\n",
        "  print(x)"
      ],
      "execution_count": 0,
      "outputs": [
        {
          "output_type": "stream",
          "text": [
            "1\n",
            "0\n"
          ],
          "name": "stdout"
        }
      ]
    },
    {
      "cell_type": "code",
      "metadata": {
        "id": "gk61HVXtxncq",
        "colab_type": "code",
        "outputId": "5b32379c-da34-41f3-eb89-fb6fac4cfd19",
        "colab": {
          "base_uri": "https://localhost:8080/",
          "height": 180
        }
      },
      "source": [
        "for x in True:\n",
        "  print(x)"
      ],
      "execution_count": 0,
      "outputs": [
        {
          "output_type": "error",
          "ename": "TypeError",
          "evalue": "ignored",
          "traceback": [
            "\u001b[0;31m---------------------------------------------------------------------------\u001b[0m",
            "\u001b[0;31mTypeError\u001b[0m                                 Traceback (most recent call last)",
            "\u001b[0;32m<ipython-input-29-89ca33e431c3>\u001b[0m in \u001b[0;36m<module>\u001b[0;34m()\u001b[0m\n\u001b[0;32m----> 1\u001b[0;31m \u001b[0;32mfor\u001b[0m \u001b[0mx\u001b[0m \u001b[0;32min\u001b[0m \u001b[0;32mTrue\u001b[0m\u001b[0;34m:\u001b[0m\u001b[0;34m\u001b[0m\u001b[0;34m\u001b[0m\u001b[0m\n\u001b[0m\u001b[1;32m      2\u001b[0m   \u001b[0mprint\u001b[0m\u001b[0;34m(\u001b[0m\u001b[0mx\u001b[0m\u001b[0;34m)\u001b[0m\u001b[0;34m\u001b[0m\u001b[0;34m\u001b[0m\u001b[0m\n",
            "\u001b[0;31mTypeError\u001b[0m: 'bool' object is not iterable"
          ]
        }
      ]
    },
    {
      "cell_type": "code",
      "metadata": {
        "id": "7Fgmvt2sxwTg",
        "colab_type": "code",
        "outputId": "86bff13f-4939-4524-ee52-a30fab92156b",
        "colab": {
          "base_uri": "https://localhost:8080/",
          "height": 180
        }
      },
      "source": [
        "for x in 10.339:\n",
        "  print(x)"
      ],
      "execution_count": 0,
      "outputs": [
        {
          "output_type": "error",
          "ename": "TypeError",
          "evalue": "ignored",
          "traceback": [
            "\u001b[0;31m---------------------------------------------------------------------------\u001b[0m",
            "\u001b[0;31mTypeError\u001b[0m                                 Traceback (most recent call last)",
            "\u001b[0;32m<ipython-input-30-5dd0c99ceb6d>\u001b[0m in \u001b[0;36m<module>\u001b[0;34m()\u001b[0m\n\u001b[0;32m----> 1\u001b[0;31m \u001b[0;32mfor\u001b[0m \u001b[0mx\u001b[0m \u001b[0;32min\u001b[0m \u001b[0;36m10.339\u001b[0m\u001b[0;34m:\u001b[0m\u001b[0;34m\u001b[0m\u001b[0;34m\u001b[0m\u001b[0m\n\u001b[0m\u001b[1;32m      2\u001b[0m   \u001b[0mprint\u001b[0m\u001b[0;34m(\u001b[0m\u001b[0mx\u001b[0m\u001b[0;34m)\u001b[0m\u001b[0;34m\u001b[0m\u001b[0;34m\u001b[0m\u001b[0m\n",
            "\u001b[0;31mTypeError\u001b[0m: 'float' object is not iterable"
          ]
        }
      ]
    },
    {
      "cell_type": "code",
      "metadata": {
        "id": "ktUqpVfPx233",
        "colab_type": "code",
        "outputId": "209acf4a-1b7a-4e12-a462-a5f0041ba316",
        "colab": {
          "base_uri": "https://localhost:8080/",
          "height": 187
        }
      },
      "source": [
        "for i in range(10):\n",
        "  print(i)"
      ],
      "execution_count": 0,
      "outputs": [
        {
          "output_type": "stream",
          "text": [
            "0\n",
            "1\n",
            "2\n",
            "3\n",
            "4\n",
            "5\n",
            "6\n",
            "7\n",
            "8\n",
            "9\n"
          ],
          "name": "stdout"
        }
      ]
    },
    {
      "cell_type": "code",
      "metadata": {
        "id": "XFHqgON-ygwM",
        "colab_type": "code",
        "outputId": "2ab8e3ad-726d-4432-c34c-f059138647b1",
        "colab": {
          "base_uri": "https://localhost:8080/",
          "height": 187
        }
      },
      "source": [
        "for i in range(10):\n",
        "  print('Hello')"
      ],
      "execution_count": 0,
      "outputs": [
        {
          "output_type": "stream",
          "text": [
            "Hello\n",
            "Hello\n",
            "Hello\n",
            "Hello\n",
            "Hello\n",
            "Hello\n",
            "Hello\n",
            "Hello\n",
            "Hello\n",
            "Hello\n"
          ],
          "name": "stdout"
        }
      ]
    },
    {
      "cell_type": "code",
      "metadata": {
        "id": "JVBBywDU0ZwV",
        "colab_type": "code",
        "outputId": "9fe6f8ad-1bc8-4e8a-be2a-32a68d39ad52",
        "colab": {
          "base_uri": "https://localhost:8080/",
          "height": 187
        }
      },
      "source": [
        "x=1\n",
        "while x<=10:\n",
        "  print('x')\n",
        "  x=x+1"
      ],
      "execution_count": 0,
      "outputs": [
        {
          "output_type": "stream",
          "text": [
            "x\n",
            "x\n",
            "x\n",
            "x\n",
            "x\n",
            "x\n",
            "x\n",
            "x\n",
            "x\n",
            "x\n"
          ],
          "name": "stdout"
        }
      ]
    },
    {
      "cell_type": "code",
      "metadata": {
        "id": "ouIW5bOG1DYM",
        "colab_type": "code",
        "outputId": "fe4bf336-6c9f-405d-cbcf-213ff54ac175",
        "colab": {
          "base_uri": "https://localhost:8080/",
          "height": 187
        }
      },
      "source": [
        "x=1\n",
        "while x<=10:\n",
        "  print(x)\n",
        "  x=x+1"
      ],
      "execution_count": 0,
      "outputs": [
        {
          "output_type": "stream",
          "text": [
            "1\n",
            "2\n",
            "3\n",
            "4\n",
            "5\n",
            "6\n",
            "7\n",
            "8\n",
            "9\n",
            "10\n"
          ],
          "name": "stdout"
        }
      ]
    },
    {
      "cell_type": "code",
      "metadata": {
        "id": "xgCuka1y1Ws7",
        "colab_type": "code",
        "outputId": "086532e7-4549-4278-a693-16070288a299",
        "colab": {
          "base_uri": "https://localhost:8080/",
          "height": 129
        }
      },
      "source": [
        "x=1\n",
        "while x<=10:\n",
        "  print('Hello')\n",
        "  x=x++"
      ],
      "execution_count": 0,
      "outputs": [
        {
          "output_type": "error",
          "ename": "SyntaxError",
          "evalue": "ignored",
          "traceback": [
            "\u001b[0;36m  File \u001b[0;32m\"<ipython-input-3-9a77ba052aa4>\"\u001b[0;36m, line \u001b[0;32m4\u001b[0m\n\u001b[0;31m    x=x++\u001b[0m\n\u001b[0m         ^\u001b[0m\n\u001b[0;31mSyntaxError\u001b[0m\u001b[0;31m:\u001b[0m invalid syntax\n"
          ]
        }
      ]
    },
    {
      "cell_type": "code",
      "metadata": {
        "id": "9Pti4WAk1qxJ",
        "colab_type": "code",
        "outputId": "e581fa12-ab65-4566-a83b-fc4e6de8babe",
        "colab": {
          "base_uri": "https://localhost:8080/",
          "height": 187
        }
      },
      "source": [
        "x=1\n",
        "while x<=10:\n",
        "  print('hello')\n",
        "  x=x+1"
      ],
      "execution_count": 0,
      "outputs": [
        {
          "output_type": "stream",
          "text": [
            "hello\n",
            "hello\n",
            "hello\n",
            "hello\n",
            "hello\n",
            "hello\n",
            "hello\n",
            "hello\n",
            "hello\n",
            "hello\n"
          ],
          "name": "stdout"
        }
      ]
    },
    {
      "cell_type": "markdown",
      "metadata": {
        "id": "gGd9JIAH3_Je",
        "colab_type": "text"
      },
      "source": [
        "# Nested loop"
      ]
    },
    {
      "cell_type": "code",
      "metadata": {
        "id": "ocnYT1To3hAj",
        "colab_type": "code",
        "outputId": "d6e5d3ac-6dea-4a7a-c31d-9eb1dad0870b",
        "colab": {
          "base_uri": "https://localhost:8080/",
          "height": 272
        }
      },
      "source": [
        "for i in range(3):\n",
        "  print('#'*5)\n",
        "  for j in range(3):\n",
        "    print(j)\n",
        "  print('$'*2)"
      ],
      "execution_count": 0,
      "outputs": [
        {
          "output_type": "stream",
          "text": [
            "#####\n",
            "0\n",
            "1\n",
            "2\n",
            "$$\n",
            "#####\n",
            "0\n",
            "1\n",
            "2\n",
            "$$\n",
            "#####\n",
            "0\n",
            "1\n",
            "2\n",
            "$$\n"
          ],
          "name": "stdout"
        }
      ]
    },
    {
      "cell_type": "code",
      "metadata": {
        "id": "WSzBJiqg4O3k",
        "colab_type": "code",
        "outputId": "49174186-c09d-4d1b-b67e-fc912c5b6d6e",
        "colab": {
          "base_uri": "https://localhost:8080/",
          "height": 102
        }
      },
      "source": [
        "for i in range(0,10):\n",
        "  if i==5:\n",
        "    break\n",
        "  print(i)"
      ],
      "execution_count": 0,
      "outputs": [
        {
          "output_type": "stream",
          "text": [
            "0\n",
            "1\n",
            "2\n",
            "3\n",
            "4\n"
          ],
          "name": "stdout"
        }
      ]
    },
    {
      "cell_type": "code",
      "metadata": {
        "id": "Vzj9SPOf50hw",
        "colab_type": "code",
        "outputId": "1e405572-0592-4f05-88c7-d7be47fc9ee9",
        "colab": {
          "base_uri": "https://localhost:8080/",
          "height": 102
        }
      },
      "source": [
        "for i in range(0,10):\n",
        "  if i==5:\n",
        "    break\n",
        "  print('break')"
      ],
      "execution_count": 0,
      "outputs": [
        {
          "output_type": "stream",
          "text": [
            "break\n",
            "break\n",
            "break\n",
            "break\n",
            "break\n"
          ],
          "name": "stdout"
        }
      ]
    },
    {
      "cell_type": "code",
      "metadata": {
        "id": "6RpwwPi36Dze",
        "colab_type": "code",
        "colab": {}
      },
      "source": [
        "for i in range(0,10):\n",
        "  if i==5:\n",
        "    break\n",
        "    print('break')"
      ],
      "execution_count": 0,
      "outputs": []
    },
    {
      "cell_type": "code",
      "metadata": {
        "id": "tkiaw0lf6HpZ",
        "colab_type": "code",
        "outputId": "71084960-dd08-4509-84b3-f9c7ef168932",
        "colab": {
          "base_uri": "https://localhost:8080/",
          "height": 119
        }
      },
      "source": [
        "for i in range(0,10):\n",
        "  if i==5:\n",
        "    break\n",
        "  print(i)\n",
        "print('break')"
      ],
      "execution_count": 0,
      "outputs": [
        {
          "output_type": "stream",
          "text": [
            "0\n",
            "1\n",
            "2\n",
            "3\n",
            "4\n",
            "break\n"
          ],
          "name": "stdout"
        }
      ]
    },
    {
      "cell_type": "code",
      "metadata": {
        "id": "DDmOJZCz7I6C",
        "colab_type": "code",
        "outputId": "702ea7e1-7bc1-490e-846b-c8e21caddaa1",
        "colab": {
          "base_uri": "https://localhost:8080/",
          "height": 68
        }
      },
      "source": [
        "cart=[10,20,600,60,60]\n",
        "for i in cart:\n",
        "  if i>=100:\n",
        "    break\n",
        "  print(i)\n",
        "print('break executed')"
      ],
      "execution_count": 0,
      "outputs": [
        {
          "output_type": "stream",
          "text": [
            "10\n",
            "20\n",
            "break executed\n"
          ],
          "name": "stdout"
        }
      ]
    },
    {
      "cell_type": "code",
      "metadata": {
        "id": "jVovsufX77gx",
        "colab_type": "code",
        "outputId": "d9667bdf-ad2b-4108-cdf5-797e1fd7e15b",
        "colab": {
          "base_uri": "https://localhost:8080/",
          "height": 102
        }
      },
      "source": [
        "cart=[10,20,600,60,60]\n",
        "for i in cart:\n",
        "  if i>=100:\n",
        "    continue\n",
        "  print(i)\n",
        "print('continue executed')"
      ],
      "execution_count": 0,
      "outputs": [
        {
          "output_type": "stream",
          "text": [
            "10\n",
            "20\n",
            "60\n",
            "60\n",
            "continue executed\n"
          ],
          "name": "stdout"
        }
      ]
    },
    {
      "cell_type": "code",
      "metadata": {
        "id": "GO7l4iB78V04",
        "colab_type": "code",
        "outputId": "d02c964e-bcbf-4be4-f110-393b187cb104",
        "colab": {
          "base_uri": "https://localhost:8080/",
          "height": 85
        }
      },
      "source": [
        "cart=[10,20,600,60,60]\n",
        "for i in cart:\n",
        "  if i>=100:\n",
        "    print('insurance must be required to place this order',i)\n",
        "    break\n",
        "  print(i)\n",
        "print('break executed')"
      ],
      "execution_count": 0,
      "outputs": [
        {
          "output_type": "stream",
          "text": [
            "10\n",
            "20\n",
            "insurance must be required to place this order 600\n",
            "break executed\n"
          ],
          "name": "stdout"
        }
      ]
    },
    {
      "cell_type": "code",
      "metadata": {
        "id": "wZexO-DF9LDR",
        "colab_type": "code",
        "outputId": "0febed8f-bb24-4a9b-b09e-b9d8c7e6b70d",
        "colab": {
          "base_uri": "https://localhost:8080/",
          "height": 85
        }
      },
      "source": [
        "cart=[10,20,600,60,60]\n",
        "for i in cart:\n",
        "  if i>=100:\n",
        "    print('isurance required for',i,' to process further')\n",
        "    break\n",
        "  print('processing item ',i)\n",
        "print('break executed as undesired :',i)"
      ],
      "execution_count": 0,
      "outputs": [
        {
          "output_type": "stream",
          "text": [
            "processing item  10\n",
            "processing item  20\n",
            "isurance required for 600  to process further\n",
            "break executed as undesired : 600\n"
          ],
          "name": "stdout"
        }
      ]
    },
    {
      "cell_type": "code",
      "metadata": {
        "id": "ZDc_zga_-YcS",
        "colab_type": "code",
        "outputId": "5975b29c-9ca5-48c3-b103-f432d7f2bd79",
        "colab": {
          "base_uri": "https://localhost:8080/",
          "height": 170
        }
      },
      "source": [
        "for i in range(10):\n",
        "  if i==5:\n",
        "    continue\n",
        "  print(i)"
      ],
      "execution_count": 0,
      "outputs": [
        {
          "output_type": "stream",
          "text": [
            "0\n",
            "1\n",
            "2\n",
            "3\n",
            "4\n",
            "6\n",
            "7\n",
            "8\n",
            "9\n"
          ],
          "name": "stdout"
        }
      ]
    },
    {
      "cell_type": "markdown",
      "metadata": {
        "id": "71JnasWl_PbU",
        "colab_type": "text"
      },
      "source": [
        "# For printing of odd number"
      ]
    },
    {
      "cell_type": "code",
      "metadata": {
        "id": "UmpIpz_l_FJs",
        "colab_type": "code",
        "outputId": "1f829d86-22d7-4750-c9b9-ebdc5fa902bd",
        "colab": {
          "base_uri": "https://localhost:8080/",
          "height": 102
        }
      },
      "source": [
        "for i in range(10):\n",
        "  if i%2==0:\n",
        "    continue\n",
        "  print(i)"
      ],
      "execution_count": 0,
      "outputs": [
        {
          "output_type": "stream",
          "text": [
            "1\n",
            "3\n",
            "5\n",
            "7\n",
            "9\n"
          ],
          "name": "stdout"
        }
      ]
    },
    {
      "cell_type": "markdown",
      "metadata": {
        "id": "Xy_r6ARZ_rIc",
        "colab_type": "text"
      },
      "source": [
        "# To print even number"
      ]
    },
    {
      "cell_type": "code",
      "metadata": {
        "id": "r61pxtZt_pxs",
        "colab_type": "code",
        "outputId": "d9b752f9-8ad5-497a-9273-1af719aa4053",
        "colab": {
          "base_uri": "https://localhost:8080/",
          "height": 442
        }
      },
      "source": [
        "for i in range(50):\n",
        "  if i%2!=0:\n",
        "    continue\n",
        "  print(i)"
      ],
      "execution_count": 0,
      "outputs": [
        {
          "output_type": "stream",
          "text": [
            "0\n",
            "2\n",
            "4\n",
            "6\n",
            "8\n",
            "10\n",
            "12\n",
            "14\n",
            "16\n",
            "18\n",
            "20\n",
            "22\n",
            "24\n",
            "26\n",
            "28\n",
            "30\n",
            "32\n",
            "34\n",
            "36\n",
            "38\n",
            "40\n",
            "42\n",
            "44\n",
            "46\n",
            "48\n"
          ],
          "name": "stdout"
        }
      ]
    },
    {
      "cell_type": "code",
      "metadata": {
        "id": "i32eJZeLAA5h",
        "colab_type": "code",
        "outputId": "af8adad0-9b6c-4e39-b628-58859df31749",
        "colab": {
          "base_uri": "https://localhost:8080/",
          "height": 119
        }
      },
      "source": [
        "cart=[10,20,600,60,700,20,1000,60]\n",
        "for i in cart:\n",
        "  if i>=100:\n",
        "    continue\n",
        "  print(i)\n",
        "print('continue executed')"
      ],
      "execution_count": 0,
      "outputs": [
        {
          "output_type": "stream",
          "text": [
            "10\n",
            "20\n",
            "60\n",
            "20\n",
            "60\n",
            "continue executed\n"
          ],
          "name": "stdout"
        }
      ]
    },
    {
      "cell_type": "markdown",
      "metadata": {
        "id": "UGe-YTdBBdGj",
        "colab_type": "text"
      },
      "source": [
        "# login page"
      ]
    },
    {
      "cell_type": "code",
      "metadata": {
        "id": "mbrybKp0CpQh",
        "colab_type": "code",
        "colab": {}
      },
      "source": [
        ""
      ],
      "execution_count": 0,
      "outputs": []
    },
    {
      "cell_type": "code",
      "metadata": {
        "id": "SNgA_vkaBVgy",
        "colab_type": "code",
        "outputId": "e9afad91-99db-43ab-dda3-c74543ee2709",
        "colab": {
          "base_uri": "https://localhost:8080/",
          "height": 129
        }
      },
      "source": [
        "n=10\n",
        "if n>10:\n",
        "  break\n",
        "  print(n)\n"
      ],
      "execution_count": 0,
      "outputs": [
        {
          "output_type": "error",
          "ename": "SyntaxError",
          "evalue": "ignored",
          "traceback": [
            "\u001b[0;36m  File \u001b[0;32m\"<ipython-input-39-3baec405a3fb>\"\u001b[0;36m, line \u001b[0;32m3\u001b[0m\n\u001b[0;31m    break\u001b[0m\n\u001b[0m    ^\u001b[0m\n\u001b[0;31mSyntaxError\u001b[0m\u001b[0;31m:\u001b[0m 'break' outside loop\n"
          ]
        }
      ]
    },
    {
      "cell_type": "markdown",
      "metadata": {
        "id": "33LqGKz9IF-o",
        "colab_type": "text"
      },
      "source": [
        "# bonus"
      ]
    },
    {
      "cell_type": "code",
      "metadata": {
        "id": "szPzMPRdHcI3",
        "colab_type": "code",
        "outputId": "a8f08190-e888-446f-af1a-685d7d62e832",
        "colab": {
          "base_uri": "https://localhost:8080/",
          "height": 136
        }
      },
      "source": [
        ""
      ],
      "execution_count": 0,
      "outputs": [
        {
          "output_type": "stream",
          "text": [
            "7\n",
            "8\n",
            "9\n",
            "0\n",
            "4\n",
            "4\n"
          ],
          "name": "stdout"
        },
        {
          "output_type": "execute_result",
          "data": {
            "text/plain": [
              "['4']"
            ]
          },
          "metadata": {
            "tags": []
          },
          "execution_count": 44
        }
      ]
    },
    {
      "cell_type": "code",
      "metadata": {
        "id": "bZvcTttvIId-",
        "colab_type": "code",
        "outputId": "8fd32f82-31bb-46d6-9de8-42f522c1fa0f",
        "colab": {
          "base_uri": "https://localhost:8080/",
          "height": 136
        }
      },
      "source": [
        "cart=[10,20,60,60,60]\n",
        "for i in cart:\n",
        "  if i>=100:\n",
        "    break\n",
        "  print(i)\n",
        "else:\n",
        "  print('congras for getting 10% discount')\n",
        "print('outside of loop')"
      ],
      "execution_count": 0,
      "outputs": [
        {
          "output_type": "stream",
          "text": [
            "10\n",
            "20\n",
            "60\n",
            "60\n",
            "60\n",
            "congras for getting 10% discount\n",
            "outside of loop\n"
          ],
          "name": "stdout"
        }
      ]
    },
    {
      "cell_type": "code",
      "metadata": {
        "id": "kt64upfcJSvh",
        "colab_type": "code",
        "outputId": "d523478e-f63c-4135-f098-ae9d4298063f",
        "colab": {
          "base_uri": "https://localhost:8080/",
          "height": 51
        }
      },
      "source": [
        "cart=[10,20,600,60,60]\n",
        "for i in cart:\n",
        "  if i>=100:\n",
        "    break\n",
        "  print(i)\n",
        "else:\n",
        "  print('congras for getting 10% discount')"
      ],
      "execution_count": 0,
      "outputs": [
        {
          "output_type": "stream",
          "text": [
            "10\n",
            "20\n"
          ],
          "name": "stdout"
        }
      ]
    },
    {
      "cell_type": "code",
      "metadata": {
        "id": "qY7mOIwqLn4w",
        "colab_type": "code",
        "outputId": "7b901803-458a-4d36-b8e5-49f66211027d",
        "colab": {
          "base_uri": "https://localhost:8080/",
          "height": 129
        }
      },
      "source": [
        "x= int(input('enter number'))\n",
        "if x>=10:\n",
        "  print('the number is')\n",
        "else:"
      ],
      "execution_count": 0,
      "outputs": [
        {
          "output_type": "error",
          "ename": "SyntaxError",
          "evalue": "ignored",
          "traceback": [
            "\u001b[0;36m  File \u001b[0;32m\"<ipython-input-49-ccb2a791bd3a>\"\u001b[0;36m, line \u001b[0;32m4\u001b[0m\n\u001b[0;31m    else:\u001b[0m\n\u001b[0m         ^\u001b[0m\n\u001b[0;31mSyntaxError\u001b[0m\u001b[0;31m:\u001b[0m unexpected EOF while parsing\n"
          ]
        }
      ]
    },
    {
      "cell_type": "code",
      "metadata": {
        "id": "pnwn8C2lMM1d",
        "colab_type": "code",
        "outputId": "792a5625-15b2-4520-838c-b7df79c19a50",
        "colab": {
          "base_uri": "https://localhost:8080/",
          "height": 34
        }
      },
      "source": [
        "x= int(input('enter number'))\n",
        "if x>=10:\n",
        "  print('the number is',x)\n",
        "else:\n",
        "  pass"
      ],
      "execution_count": 0,
      "outputs": [
        {
          "output_type": "stream",
          "text": [
            "enter number5\n"
          ],
          "name": "stdout"
        }
      ]
    },
    {
      "cell_type": "markdown",
      "metadata": {
        "id": "MfjHDQ2GNSYX",
        "colab_type": "text"
      },
      "source": [
        "# Pass"
      ]
    },
    {
      "cell_type": "code",
      "metadata": {
        "id": "dP71I3SpMbuN",
        "colab_type": "code",
        "colab": {}
      },
      "source": [
        "class loan:\n",
        "  pass\n",
        "class goldloan(loan):\n",
        "  pass\n",
        "class homeloan(loan):\n",
        "  pass"
      ],
      "execution_count": 0,
      "outputs": []
    },
    {
      "cell_type": "code",
      "metadata": {
        "id": "0FPcQP9HNgrF",
        "colab_type": "code",
        "colab": {}
      },
      "source": [
        "class loan:\n",
        "  def m1(self):\n",
        "    pass\n",
        "class goldloan(loan):\n",
        "  pass\n",
        "class homeloan(loan):\n",
        "  pass"
      ],
      "execution_count": 0,
      "outputs": []
    },
    {
      "cell_type": "code",
      "metadata": {
        "id": "N8XuMAg4Ny0P",
        "colab_type": "code",
        "colab": {}
      },
      "source": [
        "class A:pass\n",
        "class B:pass\n",
        "class C:pass\n",
        "class D:pass"
      ],
      "execution_count": 0,
      "outputs": []
    },
    {
      "cell_type": "markdown",
      "metadata": {
        "id": "dZ-XPk2hXSSe",
        "colab_type": "text"
      },
      "source": [
        "# Practice problems"
      ]
    },
    {
      "cell_type": "code",
      "metadata": {
        "id": "6noQ44HEOen1",
        "colab_type": "code",
        "outputId": "f1c584f9-2c77-4c6a-858a-ca71a7871058",
        "colab": {
          "base_uri": "https://localhost:8080/",
          "height": 136
        }
      },
      "source": [
        "sum=count=done=0\n",
        "average=0.0\n",
        "while (done!=-1):\n",
        "  rating=float(input('give rating from 1-5 and -1 for done'))\n",
        "  if rating==-1:\n",
        "    break\n",
        "  sum+=rating\n",
        "  count+=1\n",
        "  average=float(sum/count)\n",
        "  print('The average star rating for cofee is:{:.2f}'.format(average))"
      ],
      "execution_count": 0,
      "outputs": [
        {
          "output_type": "stream",
          "text": [
            "give rating from 1-5 and -1 for done6\n",
            "The average star rating for cofee is:6.00\n",
            "give rating from 1-5 and -1 for done3\n",
            "The average star rating for cofee is:4.50\n",
            "give rating from 1-5 and -1 for done4\n",
            "The average star rating for cofee is:4.33\n",
            "give rating from 1-5 and -1 for done-1\n"
          ],
          "name": "stdout"
        }
      ]
    },
    {
      "cell_type": "code",
      "metadata": {
        "id": "7GvIvbkQYVAk",
        "colab_type": "code",
        "outputId": "fbbd02f4-4ea4-4e16-d196-7211950ec123",
        "colab": {
          "base_uri": "https://localhost:8080/",
          "height": 136
        }
      },
      "source": [
        "sum=count=done=0\n",
        "average=0.0\n",
        "while (done!=-1):\n",
        "  rating=float(input('give rating from 1-5 and -1 for done'))\n",
        "  if rating==-1:\n",
        "    break\n",
        "  sum+=rating\n",
        "  count+=1\n",
        "  average=float(sum/count)\n",
        "  print('The average star rating for cofee is:{:.5f}'.format(average))"
      ],
      "execution_count": 0,
      "outputs": [
        {
          "output_type": "stream",
          "text": [
            "give rating from 1-5 and -1 for done4\n",
            "The average star rating for cofee is:4.00000\n",
            "give rating from 1-5 and -1 for done2\n",
            "The average star rating for cofee is:3.00000\n",
            "give rating from 1-5 and -1 for done3\n",
            "The average star rating for cofee is:3.00000\n",
            "give rating from 1-5 and -1 for done-1\n"
          ],
          "name": "stdout"
        }
      ]
    },
    {
      "cell_type": "code",
      "metadata": {
        "id": "NlgLl3dfb8to",
        "colab_type": "code",
        "colab": {}
      },
      "source": [
        "sum=count=0\n",
        "done=0\n",
        "average=0.0\n",
        "while (rating!=-1):\n",
        "  rating=float(input('give rating from 1-5 and -1 for done'))\n",
        "  if rating==-1:\n",
        "    break\n",
        "  sum+=rating\n",
        "  count+=1\n",
        "  average=float(sum/count)\n",
        "  print('The average star rating for cofee is:{:.5f}'.format(average))"
      ],
      "execution_count": 0,
      "outputs": []
    },
    {
      "cell_type": "markdown",
      "metadata": {
        "id": "-9HBbKnbY4ep",
        "colab_type": "text"
      },
      "source": [
        "# {:.5f}------->used to make float upto 5 decimal point"
      ]
    },
    {
      "cell_type": "code",
      "metadata": {
        "id": "ZSHCM0LrZCwJ",
        "colab_type": "code",
        "outputId": "d5056c5e-affd-408f-bc21-b5e8d50b6551",
        "colab": {
          "base_uri": "https://localhost:8080/",
          "height": 119
        }
      },
      "source": [
        "print('v:{:.2f}'.format(123.456))  # {:number of digits.decimal point}\n",
        "print('v:{:1.2f}'.format(123.456))\n",
        "print('v:{: 6.5f}'.format(123.456))\n",
        "print('v:{:05.2f}'.format(123.456))\n",
        "print('v:{:12.2f}'.format(123.456))\n",
        "print('v:{:012.2f}'.format(123.456))"
      ],
      "execution_count": 0,
      "outputs": [
        {
          "output_type": "stream",
          "text": [
            "v:123.46\n",
            "v:123.46\n",
            "v: 123.45600\n",
            "v:123.46\n",
            "v:      123.46\n",
            "v:000000123.46\n"
          ],
          "name": "stdout"
        }
      ]
    },
    {
      "cell_type": "code",
      "metadata": {
        "id": "jbB3GlJqcz16",
        "colab_type": "code",
        "outputId": "f0ae0f30-6f12-473e-83a7-656686a32b8b",
        "colab": {
          "base_uri": "https://localhost:8080/",
          "height": 153
        }
      },
      "source": [
        "name = input('enter name of player')\n",
        "count=0\n",
        "score=0\n",
        "sum=0\n",
        "while (score!=-1):\n",
        "  score=int(input('enter the score(-1 for exit)'))\n",
        "  if score==-1:\n",
        "    break\n",
        "  sum+=score\n",
        "  count+=1\n",
        "  average=float(sum/count)\n",
        "  print('average:{:6.3f}'.format(average))\n"
      ],
      "execution_count": 0,
      "outputs": [
        {
          "output_type": "stream",
          "text": [
            "enter name of playerrohit\n",
            "enter the score(-1 for exit)28\n",
            "average:28.000\n",
            "enter the score(-1 for exit)19\n",
            "average:23.500\n",
            "enter the score(-1 for exit)49\n",
            "average:32.000\n",
            "enter the score(-1 for exit)-1\n"
          ],
          "name": "stdout"
        }
      ]
    },
    {
      "cell_type": "code",
      "metadata": {
        "id": "chiaAtTIe_9s",
        "colab_type": "code",
        "outputId": "1f9f5d47-ef1c-4901-b67c-8946f8a7ceaf",
        "colab": {
          "base_uri": "https://localhost:8080/",
          "height": 153
        }
      },
      "source": [
        "name = input('enter name of player')\n",
        "count=0\n",
        "score=0\n",
        "sum=0\n",
        "while (score!=-1):\n",
        "  score=int(input('enter the score(-1 for exit)'))\n",
        "  if score==-1:\n",
        "    break\n",
        "  sum+=score\n",
        "  count+=1\n",
        "  average=float(sum/count)\n",
        "  print(name,average)#-------------"
      ],
      "execution_count": 0,
      "outputs": [
        {
          "output_type": "stream",
          "text": [
            "enter name of playerrohit\n",
            "enter the score(-1 for exit)20\n",
            "rohit 20.0\n",
            "enter the score(-1 for exit)34\n",
            "rohit 27.0\n",
            "enter the score(-1 for exit)29\n",
            "rohit 27.666666666666668\n",
            "enter the score(-1 for exit)-1\n"
          ],
          "name": "stdout"
        }
      ]
    },
    {
      "cell_type": "code",
      "metadata": {
        "id": "2RfTTG1rf_AY",
        "colab_type": "code",
        "outputId": "8e0b0880-d1ae-4d3e-f57c-d38ebeed8400",
        "colab": {
          "base_uri": "https://localhost:8080/",
          "height": 153
        }
      },
      "source": [
        "name = input('enter name of player')\n",
        "count=0\n",
        "score=0\n",
        "sum=0\n",
        "while (score!=-1):\n",
        "  score=int(input('enter the score(-1 for exit)'))\n",
        "  if score==-1:\n",
        "    break\n",
        "  sum+=score\n",
        "  count+=1\n",
        "  average=float(sum/count)\n",
        "  print('%-20s, your average score is: %4.1f'%(name,average))"
      ],
      "execution_count": 0,
      "outputs": [
        {
          "output_type": "stream",
          "text": [
            "enter name of playerro\n",
            "enter the score(-1 for exit)67\n",
            "ro                  , your average score is: 67.0\n",
            "enter the score(-1 for exit)76\n",
            "ro                  , your average score is: 71.5\n",
            "enter the score(-1 for exit)66\n",
            "ro                  , your average score is: 69.7\n",
            "enter the score(-1 for exit)-1\n"
          ],
          "name": "stdout"
        }
      ]
    },
    {
      "cell_type": "code",
      "metadata": {
        "id": "Cy6L6zG9h83r",
        "colab_type": "code",
        "outputId": "fbda8f63-89b4-4540-ee54-dce1050644cb",
        "colab": {
          "base_uri": "https://localhost:8080/",
          "height": 34
        }
      },
      "source": [
        "  print(' %-6s,your average score is: %04.1f'%(name,average))"
      ],
      "execution_count": 0,
      "outputs": [
        {
          "output_type": "stream",
          "text": [
            " ro    ,your average score is: 69.7\n"
          ],
          "name": "stdout"
        }
      ]
    },
    {
      "cell_type": "code",
      "metadata": {
        "id": "9Hqe33m9ijqJ",
        "colab_type": "code",
        "outputId": "524180a7-f128-4b6a-b78d-3db85941af65",
        "colab": {
          "base_uri": "https://localhost:8080/",
          "height": 34
        }
      },
      "source": [
        "  print(' %-6s, %4.1f'%(name,average))"
      ],
      "execution_count": 0,
      "outputs": [
        {
          "output_type": "stream",
          "text": [
            " ro    , 69.7\n"
          ],
          "name": "stdout"
        }
      ]
    },
    {
      "cell_type": "code",
      "metadata": {
        "id": "fuBOhZtrizs8",
        "colab_type": "code",
        "outputId": "87f14512-6c2a-41fd-9e58-0bb0144f0de1",
        "colab": {
          "base_uri": "https://localhost:8080/",
          "height": 153
        }
      },
      "source": [
        "name = input('enter name of player')\n",
        "count=0\n",
        "score=0\n",
        "sum=0\n",
        "while (score!=-1):\n",
        "  score=int(input('enter the score(-1 for exit)'))\n",
        "  if score==-1:\n",
        "    break\n",
        "  sum+=score\n",
        "  count+=1\n",
        "  average=float(sum/count)\n",
        "  print('%-5s,%5.6f'%(name,average))   #------------------imp"
      ],
      "execution_count": 0,
      "outputs": [
        {
          "output_type": "stream",
          "text": [
            "enter name of playerjadu\n",
            "enter the score(-1 for exit)39\n",
            "jadu ,39.000000\n",
            "enter the score(-1 for exit)49\n",
            "jadu ,44.000000\n",
            "enter the score(-1 for exit)72\n",
            "jadu ,53.333333\n",
            "enter the score(-1 for exit)-1\n"
          ],
          "name": "stdout"
        }
      ]
    },
    {
      "cell_type": "code",
      "metadata": {
        "id": "xAqwJl0IjVkX",
        "colab_type": "code",
        "outputId": "5029ac21-baaf-49a9-a56c-a5bfc57e53b5",
        "colab": {
          "base_uri": "https://localhost:8080/",
          "height": 34
        }
      },
      "source": [
        "print('%5s,%5.6f'%(name,average)) "
      ],
      "execution_count": 0,
      "outputs": [
        {
          "output_type": "stream",
          "text": [
            " jadu,53.333333\n"
          ],
          "name": "stdout"
        }
      ]
    },
    {
      "cell_type": "code",
      "metadata": {
        "id": "9D0bbpNxj323",
        "colab_type": "code",
        "outputId": "eb585fcb-46d2-4e3d-b10f-0bfb3b8d9c5e",
        "colab": {
          "base_uri": "https://localhost:8080/",
          "height": 34
        }
      },
      "source": [
        "print('%-5s,%-5.6f'%(name,average)) "
      ],
      "execution_count": 0,
      "outputs": [
        {
          "output_type": "stream",
          "text": [
            "jadu ,53.333333\n"
          ],
          "name": "stdout"
        }
      ]
    },
    {
      "cell_type": "code",
      "metadata": {
        "id": "BZB7LbuikrdE",
        "colab_type": "code",
        "outputId": "2c51d495-bec8-41ab-eece-497a2e76cc2c",
        "colab": {
          "base_uri": "https://localhost:8080/",
          "height": 119
        }
      },
      "source": [
        "numbers=[0,1,2,3,4,5,6,7,8,9]\n",
        "index=0\n",
        "while (numbers[index!=6]):\n",
        "  if index==6:\n",
        "    break\n",
        "  index+=1\n",
        "  print(numbers[index])"
      ],
      "execution_count": 0,
      "outputs": [
        {
          "output_type": "stream",
          "text": [
            "1\n",
            "2\n",
            "3\n",
            "4\n",
            "5\n",
            "6\n"
          ],
          "name": "stdout"
        }
      ]
    },
    {
      "cell_type": "code",
      "metadata": {
        "id": "cWweUO2SlgUM",
        "colab_type": "code",
        "colab": {}
      },
      "source": [
        "numbers=[0,1,2,3,4,5,6,7,8,9]\n",
        "index=0\n",
        "while (index>0):\n",
        "  print(numbers[index])\n",
        "  if numbers[index]==6:\n",
        "    break\n",
        "  else:\n",
        "    index+=1\n",
        " "
      ],
      "execution_count": 0,
      "outputs": []
    },
    {
      "cell_type": "code",
      "metadata": {
        "id": "Okg5cRoMmpat",
        "colab_type": "code",
        "outputId": "30af0b41-84f1-4fd5-cf1e-d741a151910a",
        "colab": {
          "base_uri": "https://localhost:8080/",
          "height": 136
        }
      },
      "source": [
        "numbers=[0,1,2,3,4,5,6,7,8,9]\n",
        "index=0\n",
        "while (index<10):\n",
        "  print(numbers[index])\n",
        "  if numbers[index]==6:\n",
        "    break\n",
        "  else:\n",
        "    index+=1\n",
        " "
      ],
      "execution_count": 0,
      "outputs": [
        {
          "output_type": "stream",
          "text": [
            "0\n",
            "1\n",
            "2\n",
            "3\n",
            "4\n",
            "5\n",
            "6\n"
          ],
          "name": "stdout"
        }
      ]
    },
    {
      "cell_type": "code",
      "metadata": {
        "id": "T0fbo5G_mZM9",
        "colab_type": "code",
        "outputId": "4ff977ec-6cb1-43df-fe2e-79f72d934a23",
        "colab": {
          "base_uri": "https://localhost:8080/",
          "height": 51
        }
      },
      "source": [
        "employee=input('enter date of birth(DD-MM-YYYY)format')\n",
        "part=employee.split('-')\n",
        "valid= False\n",
        "if len(part)==3:\n",
        "  if len(part[0])==2 and len(part[1])==2 and len(part[2])==4:\n",
        "    if part[0].isdigit and part[1].isdigit and part[2].isdigit:\n",
        "      valid=True\n",
        "print(valid)"
      ],
      "execution_count": 0,
      "outputs": [
        {
          "output_type": "stream",
          "text": [
            "enter date of birth(DD-MM-YYYY)format14-06-1992\n",
            "True\n"
          ],
          "name": "stdout"
        }
      ]
    },
    {
      "cell_type": "code",
      "metadata": {
        "id": "P95hrEmSq3Em",
        "colab_type": "code",
        "outputId": "9b460428-0d0f-4d79-c0a7-ad611e5dae40",
        "colab": {
          "base_uri": "https://localhost:8080/",
          "height": 51
        }
      },
      "source": [
        "employee_number=input('enter emplyee number in format(dd-ddd-dddd)')\n",
        "parts= employee_number.split('-')\n",
        "valid=False\n",
        "if len(parts)==3:\n",
        "  if len(parts[0])==2 and len(parts[1])==3 and len(parts[2])==4:\n",
        "    if parts[0].isdigit() and parts[1].isdigit and parts[2].isdigit:\n",
        "      valid=True\n",
        "else:\n",
        "  valid=False\n",
        "print(valid)"
      ],
      "execution_count": 0,
      "outputs": [
        {
          "output_type": "stream",
          "text": [
            "enter emplyee number in format(dd-ddd-dddd)834\n",
            "False\n"
          ],
          "name": "stdout"
        }
      ]
    },
    {
      "cell_type": "code",
      "metadata": {
        "id": "pZOBGEdNtPAb",
        "colab_type": "code",
        "colab": {}
      },
      "source": [
        "def root(a,b):\n",
        "  if a>=0:\n",
        "    answer=a**(1/b)\n",
        "  elif a%2==0:\n",
        "    answer=('Result is an imaginary number')\n",
        "  else:\n",
        "    answer=-(-a)**(1/b)\n",
        "  return answer"
      ],
      "execution_count": 0,
      "outputs": []
    },
    {
      "cell_type": "code",
      "metadata": {
        "id": "UwppHwdwvdl6",
        "colab_type": "code",
        "outputId": "35f63e9c-1395-4818-97ad-0db21e0f11ea",
        "colab": {
          "base_uri": "https://localhost:8080/",
          "height": 136
        }
      },
      "source": [
        "productidlist=[0,1,2,3,4,5,6,7,8,9]\n",
        "index=0\n",
        "while index<len(productidlist):\n",
        "  print(productidlist[index])\n",
        "  if productidlist[index]==6:\n",
        "    break\n",
        "  else:\n",
        "    index=index+1"
      ],
      "execution_count": 0,
      "outputs": [
        {
          "output_type": "stream",
          "text": [
            "0\n",
            "1\n",
            "2\n",
            "3\n",
            "4\n",
            "5\n",
            "6\n"
          ],
          "name": "stdout"
        }
      ]
    },
    {
      "cell_type": "code",
      "metadata": {
        "id": "fIYdVGfkztU7",
        "colab_type": "code",
        "colab": {}
      },
      "source": [
        "p=2\n",
        "for i in range(2,p):\n",
        "  while p<=200:\n",
        "    if p%i==0:\n",
        "      break\n",
        "    else:\n",
        "      print(p)\n",
        "    p+=1"
      ],
      "execution_count": 0,
      "outputs": []
    },
    {
      "cell_type": "code",
      "metadata": {
        "id": "3YYCcPOD1YL-",
        "colab_type": "code",
        "colab": {
          "base_uri": "https://localhost:8080/",
          "height": 231
        },
        "outputId": "6146a83e-488c-4e86-ce4b-b94856b6dd45"
      },
      "source": [
        "p=2\n",
        "while p<200:\n",
        "  for i in range(2,p):\n",
        "    if p%i==0:\n",
        "      break\n",
        "    else:\n",
        "      print(p)\n",
        "    p+=1\n"
      ],
      "execution_count": 9,
      "outputs": [
        {
          "output_type": "error",
          "ename": "KeyboardInterrupt",
          "evalue": "ignored",
          "traceback": [
            "\u001b[0;31m---------------------------------------------------------------------------\u001b[0m",
            "\u001b[0;31mKeyboardInterrupt\u001b[0m                         Traceback (most recent call last)",
            "\u001b[0;32m<ipython-input-9-d437024804c4>\u001b[0m in \u001b[0;36m<module>\u001b[0;34m()\u001b[0m\n\u001b[1;32m      1\u001b[0m \u001b[0mp\u001b[0m\u001b[0;34m=\u001b[0m\u001b[0;36m2\u001b[0m\u001b[0;34m\u001b[0m\u001b[0;34m\u001b[0m\u001b[0m\n\u001b[1;32m      2\u001b[0m \u001b[0;32mwhile\u001b[0m \u001b[0mp\u001b[0m\u001b[0;34m<\u001b[0m\u001b[0;36m200\u001b[0m\u001b[0;34m:\u001b[0m\u001b[0;34m\u001b[0m\u001b[0;34m\u001b[0m\u001b[0m\n\u001b[0;32m----> 3\u001b[0;31m   \u001b[0;32mfor\u001b[0m \u001b[0mi\u001b[0m \u001b[0;32min\u001b[0m \u001b[0mrange\u001b[0m\u001b[0;34m(\u001b[0m\u001b[0;36m2\u001b[0m\u001b[0;34m,\u001b[0m\u001b[0mp\u001b[0m\u001b[0;34m)\u001b[0m\u001b[0;34m:\u001b[0m\u001b[0;34m\u001b[0m\u001b[0;34m\u001b[0m\u001b[0m\n\u001b[0m\u001b[1;32m      4\u001b[0m     \u001b[0;32mif\u001b[0m \u001b[0mp\u001b[0m\u001b[0;34m%\u001b[0m\u001b[0mi\u001b[0m\u001b[0;34m==\u001b[0m\u001b[0;36m0\u001b[0m\u001b[0;34m:\u001b[0m\u001b[0;34m\u001b[0m\u001b[0;34m\u001b[0m\u001b[0m\n\u001b[1;32m      5\u001b[0m       \u001b[0;32mbreak\u001b[0m\u001b[0;34m\u001b[0m\u001b[0;34m\u001b[0m\u001b[0m\n",
            "\u001b[0;31mKeyboardInterrupt\u001b[0m: "
          ]
        }
      ]
    }
  ]
}